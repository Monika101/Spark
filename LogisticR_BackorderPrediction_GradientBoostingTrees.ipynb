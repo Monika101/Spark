{
 "cells": [
  {
   "cell_type": "code",
   "execution_count": 1,
   "metadata": {
    "collapsed": true
   },
   "outputs": [],
   "source": [
    "import findspark\n",
    "findspark.init('/home/ubuntu/spark-2.1.1-bin-hadoop2.7/')"
   ]
  },
  {
   "cell_type": "code",
   "execution_count": 2,
   "metadata": {
    "collapsed": true
   },
   "outputs": [],
   "source": [
    "from pyspark.sql import SparkSession"
   ]
  },
  {
   "cell_type": "code",
   "execution_count": 3,
   "metadata": {
    "collapsed": true
   },
   "outputs": [],
   "source": [
    "spark = SparkSession.builder.appName('backorder').getOrCreate()"
   ]
  },
  {
   "cell_type": "code",
   "execution_count": 32,
   "metadata": {
    "collapsed": true
   },
   "outputs": [],
   "source": [
    "from pyspark.ml.classification import LogisticRegression"
   ]
  },
  {
   "cell_type": "code",
   "execution_count": 4,
   "metadata": {
    "collapsed": true
   },
   "outputs": [],
   "source": [
    "from pyspark.sql.types import StructField,StringType,IntegerType,StructType, DoubleType\n",
    "from pyspark.ml.feature import StringIndexer"
   ]
  },
  {
   "cell_type": "code",
   "execution_count": 5,
   "metadata": {
    "collapsed": true
   },
   "outputs": [],
   "source": [
    "train = spark.read.csv(\"Kaggle_Test_Dataset_v2.csv\", inferSchema = True, header = True)"
   ]
  },
  {
   "cell_type": "code",
   "execution_count": 6,
   "metadata": {},
   "outputs": [
    {
     "name": "stdout",
     "output_type": "stream",
     "text": [
      "root\n",
      " |-- sku: string (nullable = true)\n",
      " |-- national_inv: integer (nullable = true)\n",
      " |-- lead_time: integer (nullable = true)\n",
      " |-- in_transit_qty: integer (nullable = true)\n",
      " |-- forecast_3_month: integer (nullable = true)\n",
      " |-- forecast_6_month: integer (nullable = true)\n",
      " |-- forecast_9_month: integer (nullable = true)\n",
      " |-- sales_1_month: integer (nullable = true)\n",
      " |-- sales_3_month: integer (nullable = true)\n",
      " |-- sales_6_month: integer (nullable = true)\n",
      " |-- sales_9_month: integer (nullable = true)\n",
      " |-- min_bank: integer (nullable = true)\n",
      " |-- potential_issue: string (nullable = true)\n",
      " |-- pieces_past_due: integer (nullable = true)\n",
      " |-- perf_6_month_avg: double (nullable = true)\n",
      " |-- perf_12_month_avg: double (nullable = true)\n",
      " |-- local_bo_qty: integer (nullable = true)\n",
      " |-- deck_risk: string (nullable = true)\n",
      " |-- oe_constraint: string (nullable = true)\n",
      " |-- ppap_risk: string (nullable = true)\n",
      " |-- stop_auto_buy: string (nullable = true)\n",
      " |-- rev_stop: string (nullable = true)\n",
      " |-- went_on_backorder: string (nullable = true)\n",
      "\n"
     ]
    }
   ],
   "source": [
    "train.printSchema()"
   ]
  },
  {
   "cell_type": "code",
   "execution_count": 7,
   "metadata": {},
   "outputs": [
    {
     "name": "stdout",
     "output_type": "stream",
     "text": [
      "+-----------------+------+\n",
      "|went_on_backorder| count|\n",
      "+-----------------+------+\n",
      "|             null|     1|\n",
      "|               No|239387|\n",
      "|              Yes|  2688|\n",
      "+-----------------+------+\n",
      "\n"
     ]
    }
   ],
   "source": [
    "train.groupBy('went_on_backorder').count().show()\n"
   ]
  },
  {
   "cell_type": "code",
   "execution_count": 8,
   "metadata": {},
   "outputs": [
    {
     "name": "stdout",
     "output_type": "stream",
     "text": [
      "+-----------------+------+\n",
      "|went_on_backorder| count|\n",
      "+-----------------+------+\n",
      "|               No|239387|\n",
      "|              Yes|  2688|\n",
      "+-----------------+------+\n",
      "\n"
     ]
    }
   ],
   "source": [
    "train = train.dropna(subset = 'went_on_backorder')\n",
    "train.groupBy('went_on_backorder').count().show()\n"
   ]
  },
  {
   "cell_type": "code",
   "execution_count": 9,
   "metadata": {
    "collapsed": true
   },
   "outputs": [],
   "source": [
    "indexer = StringIndexer(inputCol=\"went_on_backorder\", outputCol=\"backorder\")"
   ]
  },
  {
   "cell_type": "code",
   "execution_count": 10,
   "metadata": {},
   "outputs": [
    {
     "name": "stdout",
     "output_type": "stream",
     "text": [
      "root\n",
      " |-- sku: string (nullable = true)\n",
      " |-- national_inv: integer (nullable = true)\n",
      " |-- lead_time: integer (nullable = true)\n",
      " |-- in_transit_qty: integer (nullable = true)\n",
      " |-- forecast_3_month: integer (nullable = true)\n",
      " |-- forecast_6_month: integer (nullable = true)\n",
      " |-- forecast_9_month: integer (nullable = true)\n",
      " |-- sales_1_month: integer (nullable = true)\n",
      " |-- sales_3_month: integer (nullable = true)\n",
      " |-- sales_6_month: integer (nullable = true)\n",
      " |-- sales_9_month: integer (nullable = true)\n",
      " |-- min_bank: integer (nullable = true)\n",
      " |-- potential_issue: string (nullable = true)\n",
      " |-- pieces_past_due: integer (nullable = true)\n",
      " |-- perf_6_month_avg: double (nullable = true)\n",
      " |-- perf_12_month_avg: double (nullable = true)\n",
      " |-- local_bo_qty: integer (nullable = true)\n",
      " |-- deck_risk: string (nullable = true)\n",
      " |-- oe_constraint: string (nullable = true)\n",
      " |-- ppap_risk: string (nullable = true)\n",
      " |-- stop_auto_buy: string (nullable = true)\n",
      " |-- rev_stop: string (nullable = true)\n",
      " |-- went_on_backorder: string (nullable = true)\n",
      "\n"
     ]
    }
   ],
   "source": [
    "#df4.na.replace(['Alice', 'Bob'], ['A', 'B'], 'name').show()\n",
    "\n",
    "#train = train.na.replace(['Yes', 'No'], ['1', '0'], 'went_on_backorder')\n",
    "#train.printSchema()\n",
    "\n",
    "#train = train.withColumn('backorder', train['went_on_backorder']==1)\n",
    "#train = train.withColumn(\"backorder\", train[\"backorder\"].cast(DoubleType()))\n",
    "#train.printSchema()"
   ]
  },
  {
   "cell_type": "code",
   "execution_count": 10,
   "metadata": {
    "collapsed": true
   },
   "outputs": [],
   "source": [
    "train = train.withColumn(\"national_inv\", train[\"national_inv\"].cast(DoubleType()))\n",
    "train = train.withColumn(\"lead_time\", train[\"lead_time\"].cast(DoubleType()))\n",
    "train = train.withColumn(\"in_transit_qty\", train[\"in_transit_qty\"].cast(DoubleType()))\n",
    "train = train.withColumn(\"min_bank\", train[\"min_bank\"].cast(DoubleType()))\n",
    "train = train.withColumn(\"local_bo_qty\", train[\"local_bo_qty\"].cast(DoubleType()))\n"
   ]
  },
  {
   "cell_type": "code",
   "execution_count": 11,
   "metadata": {},
   "outputs": [
    {
     "name": "stdout",
     "output_type": "stream",
     "text": [
      "root\n",
      " |-- sku: string (nullable = true)\n",
      " |-- national_inv: double (nullable = true)\n",
      " |-- lead_time: double (nullable = true)\n",
      " |-- in_transit_qty: double (nullable = true)\n",
      " |-- forecast_3_month: integer (nullable = true)\n",
      " |-- forecast_6_month: integer (nullable = true)\n",
      " |-- forecast_9_month: integer (nullable = true)\n",
      " |-- sales_1_month: integer (nullable = true)\n",
      " |-- sales_3_month: integer (nullable = true)\n",
      " |-- sales_6_month: integer (nullable = true)\n",
      " |-- sales_9_month: integer (nullable = true)\n",
      " |-- min_bank: double (nullable = true)\n",
      " |-- potential_issue: string (nullable = true)\n",
      " |-- pieces_past_due: integer (nullable = true)\n",
      " |-- perf_6_month_avg: double (nullable = true)\n",
      " |-- perf_12_month_avg: double (nullable = true)\n",
      " |-- local_bo_qty: double (nullable = true)\n",
      " |-- deck_risk: string (nullable = true)\n",
      " |-- oe_constraint: string (nullable = true)\n",
      " |-- ppap_risk: string (nullable = true)\n",
      " |-- stop_auto_buy: string (nullable = true)\n",
      " |-- rev_stop: string (nullable = true)\n",
      " |-- went_on_backorder: string (nullable = true)\n",
      "\n"
     ]
    }
   ],
   "source": [
    "train.printSchema()"
   ]
  },
  {
   "cell_type": "code",
   "execution_count": 12,
   "metadata": {},
   "outputs": [
    {
     "name": "stdout",
     "output_type": "stream",
     "text": [
      "+---------+-----+\n",
      "|lead_time|count|\n",
      "+---------+-----+\n",
      "|      8.0|98533|\n",
      "|      0.0|16239|\n",
      "|      7.0|   30|\n",
      "|     35.0|    5|\n",
      "|     18.0|   32|\n",
      "|      1.0|    3|\n",
      "|     25.0|    1|\n",
      "|      4.0|18508|\n",
      "|     23.0|    2|\n",
      "|     11.0|  152|\n",
      "|     21.0|    7|\n",
      "|     14.0| 1506|\n",
      "|     22.0|   19|\n",
      "|      3.0| 2349|\n",
      "|     19.0|    4|\n",
      "|     28.0|   12|\n",
      "|      2.0|46917|\n",
      "|     17.0|  537|\n",
      "|     10.0| 2056|\n",
      "|     40.0|    8|\n",
      "+---------+-----+\n",
      "only showing top 20 rows\n",
      "\n"
     ]
    }
   ],
   "source": [
    "train = train.fillna(0, subset = 'lead_time')\n",
    "train.groupBy('lead_time').count().show()"
   ]
  },
  {
   "cell_type": "code",
   "execution_count": 13,
   "metadata": {
    "collapsed": true
   },
   "outputs": [],
   "source": [
    "from pyspark.ml.feature import VectorAssembler"
   ]
  },
  {
   "cell_type": "code",
   "execution_count": 14,
   "metadata": {
    "collapsed": true
   },
   "outputs": [],
   "source": [
    "assembler = VectorAssembler(inputCols = [\"national_inv\", \"lead_time\", \"in_transit_qty\", \"min_bank\", \"local_bo_qty\",\n",
    "                                        \"perf_6_month_avg\", \"perf_12_month_avg\"],\n",
    "                           outputCol = \"features\")"
   ]
  },
  {
   "cell_type": "code",
   "execution_count": 15,
   "metadata": {
    "collapsed": true
   },
   "outputs": [],
   "source": [
    "output = assembler.transform(train)"
   ]
  },
  {
   "cell_type": "code",
   "execution_count": 16,
   "metadata": {
    "collapsed": true
   },
   "outputs": [],
   "source": [
    "outputIndexed = indexer.fit(output).transform(output)"
   ]
  },
  {
   "cell_type": "code",
   "execution_count": 18,
   "metadata": {},
   "outputs": [
    {
     "name": "stdout",
     "output_type": "stream",
     "text": [
      "+----------------------------------+---------+\n",
      "|features                          |backorder|\n",
      "+----------------------------------+---------+\n",
      "|[62.0,0.0,0.0,1.0,0.0,-99.0,-99.0]|0.0      |\n",
      "|[9.0,0.0,0.0,1.0,0.0,-99.0,-99.0] |0.0      |\n",
      "|[17.0,8.0,0.0,0.0,0.0,0.92,0.95]  |0.0      |\n",
      "|[9.0,2.0,0.0,0.0,0.0,0.78,0.75]   |0.0      |\n",
      "|[2.0,8.0,0.0,0.0,0.0,0.54,0.71]   |0.0      |\n",
      "|[15.0,2.0,0.0,0.0,0.0,0.37,0.68]  |0.0      |\n",
      "|(7,[5,6],[-99.0,-99.0])           |0.0      |\n",
      "|(7,[0,5,6],[28.0,-99.0,-99.0])    |0.0      |\n",
      "|(7,[0,5,6],[2.0,-99.0,-99.0])     |0.0      |\n",
      "|(7,[0,5,6],[2.0,-99.0,-99.0])     |0.0      |\n",
      "|[20.0,0.0,0.0,1.0,0.0,-99.0,-99.0]|0.0      |\n",
      "|(7,[5,6],[-99.0,-99.0])           |0.0      |\n",
      "|(7,[0,5,6],[13.0,-99.0,-99.0])    |0.0      |\n",
      "|[208.0,16.0,0.0,0.0,0.0,0.66,0.64]|0.0      |\n",
      "|(7,[5,6],[-99.0,-99.0])           |0.0      |\n",
      "|(7,[1,5,6],[2.0,0.37,0.34])       |0.0      |\n",
      "|(7,[5,6],[-99.0,-99.0])           |0.0      |\n",
      "|(7,[0,5,6],[26.0,-99.0,-99.0])    |0.0      |\n",
      "|(7,[0,5,6],[36.0,-99.0,-99.0])    |0.0      |\n",
      "|(7,[0,5,6],[23.0,-99.0,-99.0])    |0.0      |\n",
      "+----------------------------------+---------+\n",
      "only showing top 20 rows\n",
      "\n"
     ]
    }
   ],
   "source": [
    "outputIndexed.select(\"features\", \"backorder\").show(truncate = False)"
   ]
  },
  {
   "cell_type": "code",
   "execution_count": 19,
   "metadata": {
    "collapsed": true
   },
   "outputs": [],
   "source": [
    "data = outputIndexed.select(\"features\", \"backorder\")"
   ]
  },
  {
   "cell_type": "code",
   "execution_count": 20,
   "metadata": {
    "collapsed": true
   },
   "outputs": [],
   "source": [
    "train_data, test_data = data.randomSplit([0.9, 0.1])"
   ]
  },
  {
   "cell_type": "code",
   "execution_count": 33,
   "metadata": {},
   "outputs": [],
   "source": [
    "lr = LogisticRegression(labelCol = \"backorder\")"
   ]
  },
  {
   "cell_type": "code",
   "execution_count": 34,
   "metadata": {
    "collapsed": true
   },
   "outputs": [],
   "source": [
    "lrModel = lr.fit(train_data)"
   ]
  },
  {
   "cell_type": "code",
   "execution_count": 35,
   "metadata": {
    "collapsed": true
   },
   "outputs": [],
   "source": [
    "trainingModel = lrModel.summary"
   ]
  },
  {
   "cell_type": "code",
   "execution_count": 36,
   "metadata": {},
   "outputs": [
    {
     "name": "stdout",
     "output_type": "stream",
     "text": [
      "+---------+---------+--------------------+--------------------+----------+\n",
      "| features|backorder|       rawPrediction|         probability|prediction|\n",
      "+---------+---------+--------------------+--------------------+----------+\n",
      "|(7,[],[])|      0.0|[3.93866514404500...|[0.98089780713855...|       0.0|\n",
      "|(7,[],[])|      0.0|[3.93866514404500...|[0.98089780713855...|       0.0|\n",
      "|(7,[],[])|      0.0|[3.93866514404500...|[0.98089780713855...|       0.0|\n",
      "|(7,[],[])|      0.0|[3.93866514404500...|[0.98089780713855...|       0.0|\n",
      "|(7,[],[])|      0.0|[3.93866514404500...|[0.98089780713855...|       0.0|\n",
      "|(7,[],[])|      0.0|[3.93866514404500...|[0.98089780713855...|       0.0|\n",
      "|(7,[],[])|      0.0|[3.93866514404500...|[0.98089780713855...|       0.0|\n",
      "|(7,[],[])|      0.0|[3.93866514404500...|[0.98089780713855...|       0.0|\n",
      "|(7,[],[])|      0.0|[3.93866514404500...|[0.98089780713855...|       0.0|\n",
      "|(7,[],[])|      0.0|[3.93866514404500...|[0.98089780713855...|       0.0|\n",
      "|(7,[],[])|      0.0|[3.93866514404500...|[0.98089780713855...|       0.0|\n",
      "|(7,[],[])|      0.0|[3.93866514404500...|[0.98089780713855...|       0.0|\n",
      "|(7,[],[])|      0.0|[3.93866514404500...|[0.98089780713855...|       0.0|\n",
      "|(7,[],[])|      0.0|[3.93866514404500...|[0.98089780713855...|       0.0|\n",
      "|(7,[],[])|      0.0|[3.93866514404500...|[0.98089780713855...|       0.0|\n",
      "|(7,[],[])|      0.0|[3.93866514404500...|[0.98089780713855...|       0.0|\n",
      "|(7,[],[])|      0.0|[3.93866514404500...|[0.98089780713855...|       0.0|\n",
      "|(7,[],[])|      0.0|[3.93866514404500...|[0.98089780713855...|       0.0|\n",
      "|(7,[],[])|      0.0|[3.93866514404500...|[0.98089780713855...|       0.0|\n",
      "|(7,[],[])|      0.0|[3.93866514404500...|[0.98089780713855...|       0.0|\n",
      "+---------+---------+--------------------+--------------------+----------+\n",
      "only showing top 20 rows\n",
      "\n"
     ]
    }
   ],
   "source": [
    "trainingModel.predictions.show()"
   ]
  },
  {
   "cell_type": "code",
   "execution_count": 37,
   "metadata": {
    "collapsed": true
   },
   "outputs": [],
   "source": [
    "from pyspark.mllib.evaluation import MulticlassMetrics\n",
    "from pyspark.ml.evaluation import BinaryClassificationEvaluator"
   ]
  },
  {
   "cell_type": "code",
   "execution_count": 38,
   "metadata": {
    "collapsed": true
   },
   "outputs": [],
   "source": [
    "predictionAndLables = lrModel.evaluate(test_data)"
   ]
  },
  {
   "cell_type": "code",
   "execution_count": 39,
   "metadata": {},
   "outputs": [
    {
     "name": "stdout",
     "output_type": "stream",
     "text": [
      "+-------------------+---------+--------------------+--------------------+----------+\n",
      "|           features|backorder|       rawPrediction|         probability|prediction|\n",
      "+-------------------+---------+--------------------+--------------------+----------+\n",
      "|          (7,[],[])|      0.0|[3.93866514404500...|[0.98089780713855...|       0.0|\n",
      "|          (7,[],[])|      0.0|[3.93866514404500...|[0.98089780713855...|       0.0|\n",
      "|          (7,[],[])|      0.0|[3.93866514404500...|[0.98089780713855...|       0.0|\n",
      "|          (7,[],[])|      0.0|[3.93866514404500...|[0.98089780713855...|       0.0|\n",
      "|      (7,[0],[2.0])|      0.0|[3.94417645822433...|[0.98100080104712...|       0.0|\n",
      "|      (7,[0],[5.0])|      0.0|[3.95244342949331...|[0.98115427161655...|       0.0|\n",
      "|      (7,[0],[6.0])|      0.0|[3.95519908658298...|[0.98120515777637...|       0.0|\n",
      "|     (7,[0],[19.0])|      0.0|[3.99102262874859...|[0.98185453731543...|       0.0|\n",
      "|     (7,[0],[25.0])|      0.0|[4.00755657128656...|[0.98214677452480...|       0.0|\n",
      "|     (7,[0],[57.0])|      0.0|[4.09573759815576...|[0.98362900453445...|       0.0|\n",
      "|    (7,[0],[151.0])|      0.0|[4.35476936458402...|[0.98731750983542...|       0.0|\n",
      "|    (7,[0],[213.0])|      0.0|[4.52562010414308...|[0.98928799173482...|       0.0|\n",
      "|    (7,[0],[236.0])|      0.0|[4.58900021720532...|[0.98993923360831...|       0.0|\n",
      "|    (7,[0],[307.0])|      0.0|[4.78465187057135...|[0.99171222860492...|       0.0|\n",
      "|    (7,[0],[383.0])|      0.0|[4.99408180938569...|[0.99326768952269...|       0.0|\n",
      "|(7,[0,1],[1.0,8.0])|      0.0|[4.33383049225782...|[0.98705262756880...|       0.0|\n",
      "|(7,[0,1],[1.0,8.0])|      0.0|[4.33383049225782...|[0.98705262756880...|       0.0|\n",
      "|(7,[0,1],[1.0,8.0])|      0.0|[4.33383049225782...|[0.98705262756880...|       0.0|\n",
      "|(7,[0,1],[1.0,8.0])|      0.0|[4.33383049225782...|[0.98705262756880...|       0.0|\n",
      "|(7,[0,1],[2.0,8.0])|      0.0|[4.33658614934748...|[0.98708779691956...|       0.0|\n",
      "+-------------------+---------+--------------------+--------------------+----------+\n",
      "only showing top 20 rows\n",
      "\n"
     ]
    }
   ],
   "source": [
    "predictionAndLables.predictions.show()\n"
   ]
  },
  {
   "cell_type": "code",
   "execution_count": 40,
   "metadata": {
    "collapsed": true
   },
   "outputs": [],
   "source": [
    "churn_eval = BinaryClassificationEvaluator(rawPredictionCol='prediction',\n",
    "                                           labelCol='backorder')"
   ]
  },
  {
   "cell_type": "code",
   "execution_count": 41,
   "metadata": {},
   "outputs": [
    {
     "data": {
      "text/plain": [
       "0.5"
      ]
     },
     "execution_count": 41,
     "metadata": {},
     "output_type": "execute_result"
    }
   ],
   "source": [
    "auc = churn_eval.evaluate(predictionAndLables.predictions)\n",
    "auc"
   ]
  },
  {
   "cell_type": "code",
   "execution_count": 44,
   "metadata": {
    "collapsed": true
   },
   "outputs": [],
   "source": [
    "from pyspark.sql.functions import corr"
   ]
  },
  {
   "cell_type": "code",
   "execution_count": 45,
   "metadata": {},
   "outputs": [
    {
     "name": "stdout",
     "output_type": "stream",
     "text": [
      "+-------------------------------------+\n",
      "|corr(went_on_backorder, national_inv)|\n",
      "+-------------------------------------+\n",
      "|                 -0.00173416496506...|\n",
      "+-------------------------------------+\n",
      "\n"
     ]
    }
   ],
   "source": [
    "train.select(corr('went_on_backorder','national_inv')).show()"
   ]
  },
  {
   "cell_type": "code",
   "execution_count": 46,
   "metadata": {},
   "outputs": [
    {
     "name": "stdout",
     "output_type": "stream",
     "text": [
      "+----------------------------------+\n",
      "|corr(went_on_backorder, lead_time)|\n",
      "+----------------------------------+\n",
      "|              -0.01729943162873909|\n",
      "+----------------------------------+\n",
      "\n"
     ]
    }
   ],
   "source": [
    "train.select(corr('went_on_backorder','lead_time')).show()"
   ]
  },
  {
   "cell_type": "code",
   "execution_count": 47,
   "metadata": {},
   "outputs": [
    {
     "name": "stdout",
     "output_type": "stream",
     "text": [
      "+---------------------------------------+\n",
      "|corr(went_on_backorder, in_transit_qty)|\n",
      "+---------------------------------------+\n",
      "|                   -0.00351683289259...|\n",
      "+---------------------------------------+\n",
      "\n"
     ]
    }
   ],
   "source": [
    "train.select(corr('went_on_backorder','in_transit_qty')).show()"
   ]
  },
  {
   "cell_type": "code",
   "execution_count": 48,
   "metadata": {},
   "outputs": [
    {
     "name": "stdout",
     "output_type": "stream",
     "text": [
      "+---------------------------------+\n",
      "|corr(went_on_backorder, min_bank)|\n",
      "+---------------------------------+\n",
      "|             -0.00102680463935...|\n",
      "+---------------------------------+\n",
      "\n"
     ]
    }
   ],
   "source": [
    "train.select(corr('went_on_backorder','min_bank')).show()"
   ]
  },
  {
   "cell_type": "code",
   "execution_count": 49,
   "metadata": {},
   "outputs": [
    {
     "name": "stdout",
     "output_type": "stream",
     "text": [
      "+-------------------------------------+\n",
      "|corr(went_on_backorder, local_bo_qty)|\n",
      "+-------------------------------------+\n",
      "|                 0.006355025990898093|\n",
      "+-------------------------------------+\n",
      "\n"
     ]
    }
   ],
   "source": [
    "\n",
    "train.select(corr('went_on_backorder','local_bo_qty')).show()"
   ]
  },
  {
   "cell_type": "code",
   "execution_count": 50,
   "metadata": {},
   "outputs": [
    {
     "name": "stdout",
     "output_type": "stream",
     "text": [
      "+-----------------------------------------+\n",
      "|corr(went_on_backorder, perf_6_month_avg)|\n",
      "+-----------------------------------------+\n",
      "|                      0.01266287406108172|\n",
      "+-----------------------------------------+\n",
      "\n"
     ]
    }
   ],
   "source": [
    "train.select(corr('went_on_backorder','perf_6_month_avg')).show()"
   ]
  },
  {
   "cell_type": "code",
   "execution_count": 51,
   "metadata": {},
   "outputs": [
    {
     "name": "stdout",
     "output_type": "stream",
     "text": [
      "+------------------------------------------+\n",
      "|corr(went_on_backorder, perf_12_month_avg)|\n",
      "+------------------------------------------+\n",
      "|                      0.012802138240801638|\n",
      "+------------------------------------------+\n",
      "\n"
     ]
    }
   ],
   "source": [
    "train.select(corr('went_on_backorder','perf_12_month_avg')).show()"
   ]
  },
  {
   "cell_type": "code",
   "execution_count": 52,
   "metadata": {},
   "outputs": [
    {
     "name": "stdout",
     "output_type": "stream",
     "text": [
      "+--------------------------------------+\n",
      "|corr(went_on_backorder, sales_9_month)|\n",
      "+--------------------------------------+\n",
      "|                  -0.00188847244692...|\n",
      "+--------------------------------------+\n",
      "\n"
     ]
    }
   ],
   "source": [
    "train.select(corr('went_on_backorder','sales_9_month')).show()"
   ]
  },
  {
   "cell_type": "code",
   "execution_count": 55,
   "metadata": {},
   "outputs": [
    {
     "name": "stdout",
     "output_type": "stream",
     "text": [
      "+-------------------------------------+\n",
      "|corr(sales_9_month, forecast_9_month)|\n",
      "+-------------------------------------+\n",
      "|                   0.8606098866748187|\n",
      "+-------------------------------------+\n",
      "\n"
     ]
    }
   ],
   "source": [
    "\n",
    "train.select(corr('sales_9_month','forecast_9_month')).show()"
   ]
  },
  {
   "cell_type": "code",
   "execution_count": 56,
   "metadata": {},
   "outputs": [
    {
     "name": "stdout",
     "output_type": "stream",
     "text": [
      "+-------------------------------------+\n",
      "|corr(sales_6_month, forecast_6_month)|\n",
      "+-------------------------------------+\n",
      "|                   0.7955021547041715|\n",
      "+-------------------------------------+\n",
      "\n"
     ]
    }
   ],
   "source": [
    "train.select(corr('sales_6_month','forecast_6_month')).show()"
   ]
  },
  {
   "cell_type": "code",
   "execution_count": 58,
   "metadata": {},
   "outputs": [
    {
     "name": "stdout",
     "output_type": "stream",
     "text": [
      "+---------------------------------+\n",
      "|corr(went_on_backorder, min_bank)|\n",
      "+---------------------------------+\n",
      "|             -0.00102680463935...|\n",
      "+---------------------------------+\n",
      "\n"
     ]
    }
   ],
   "source": [
    "train.select(corr('went_on_backorder','min_bank')).show()"
   ]
  },
  {
   "cell_type": "code",
   "execution_count": 59,
   "metadata": {},
   "outputs": [
    {
     "name": "stdout",
     "output_type": "stream",
     "text": [
      "+----------------------------------------+\n",
      "|corr(went_on_backorder, pieces_past_due)|\n",
      "+----------------------------------------+\n",
      "|                    0.001513612185315...|\n",
      "+----------------------------------------+\n",
      "\n"
     ]
    }
   ],
   "source": [
    "train.select(corr('went_on_backorder','pieces_past_due')).show()"
   ]
  },
  {
   "cell_type": "code",
   "execution_count": 60,
   "metadata": {},
   "outputs": [
    {
     "name": "stdout",
     "output_type": "stream",
     "text": [
      "+-------------------------------------+\n",
      "|corr(went_on_backorder, local_bo_qty)|\n",
      "+-------------------------------------+\n",
      "|                 0.006355025990898093|\n",
      "+-------------------------------------+\n",
      "\n"
     ]
    }
   ],
   "source": [
    "\n",
    "train.select(corr('went_on_backorder','local_bo_qty')).show()"
   ]
  },
  {
   "cell_type": "code",
   "execution_count": 61,
   "metadata": {},
   "outputs": [
    {
     "name": "stdout",
     "output_type": "stream",
     "text": [
      "+------------------------------------------+\n",
      "|corr(went_on_backorder, went_on_backorder)|\n",
      "+------------------------------------------+\n",
      "|                                       1.0|\n",
      "+------------------------------------------+\n",
      "\n"
     ]
    }
   ],
   "source": [
    "train.select(corr('went_on_backorder','went_on_backorder')).show()"
   ]
  },
  {
   "cell_type": "code",
   "execution_count": null,
   "metadata": {
    "collapsed": true
   },
   "outputs": [],
   "source": [
    "### Use Gradient Boosted Trees"
   ]
  },
  {
   "cell_type": "code",
   "execution_count": 21,
   "metadata": {
    "collapsed": true
   },
   "outputs": [],
   "source": [
    "from pyspark.ml.classification import GBTClassifier"
   ]
  },
  {
   "cell_type": "code",
   "execution_count": 22,
   "metadata": {
    "collapsed": true
   },
   "outputs": [],
   "source": [
    "gbt = GBTClassifier(labelCol=\"backorder\", featuresCol=\"features\", maxIter=10)"
   ]
  },
  {
   "cell_type": "code",
   "execution_count": 23,
   "metadata": {
    "collapsed": true
   },
   "outputs": [],
   "source": [
    "model = gbt.fit(train_data)"
   ]
  },
  {
   "cell_type": "code",
   "execution_count": 24,
   "metadata": {
    "collapsed": true
   },
   "outputs": [],
   "source": [
    "predictions = model.transform(test_data)"
   ]
  },
  {
   "cell_type": "code",
   "execution_count": 30,
   "metadata": {},
   "outputs": [
    {
     "name": "stdout",
     "output_type": "stream",
     "text": [
      "+----------+---------+--------------------+\n",
      "|prediction|backorder|            features|\n",
      "+----------+---------+--------------------+\n",
      "|       0.0|      0.0|           (7,[],[])|\n",
      "|       0.0|      0.0|           (7,[],[])|\n",
      "|       0.0|      0.0|           (7,[],[])|\n",
      "|       0.0|      0.0|           (7,[],[])|\n",
      "|       0.0|      0.0|       (7,[0],[2.0])|\n",
      "|       0.0|      0.0|       (7,[0],[5.0])|\n",
      "|       0.0|      0.0|       (7,[0],[6.0])|\n",
      "|       0.0|      0.0|      (7,[0],[19.0])|\n",
      "|       0.0|      0.0|      (7,[0],[25.0])|\n",
      "|       0.0|      0.0|      (7,[0],[57.0])|\n",
      "|       0.0|      0.0|     (7,[0],[151.0])|\n",
      "|       0.0|      0.0|     (7,[0],[213.0])|\n",
      "|       0.0|      0.0|     (7,[0],[236.0])|\n",
      "|       0.0|      0.0|     (7,[0],[307.0])|\n",
      "|       0.0|      0.0|     (7,[0],[383.0])|\n",
      "|       0.0|      0.0| (7,[0,1],[1.0,8.0])|\n",
      "|       0.0|      0.0| (7,[0,1],[1.0,8.0])|\n",
      "|       0.0|      0.0| (7,[0,1],[1.0,8.0])|\n",
      "|       0.0|      0.0| (7,[0,1],[1.0,8.0])|\n",
      "|       0.0|      0.0| (7,[0,1],[2.0,8.0])|\n",
      "|       0.0|      0.0| (7,[0,1],[2.0,8.0])|\n",
      "|       0.0|      0.0| (7,[0,1],[2.0,8.0])|\n",
      "|       0.0|      0.0| (7,[0,1],[3.0,2.0])|\n",
      "|       0.0|      0.0| (7,[0,1],[3.0,2.0])|\n",
      "|       0.0|      0.0| (7,[0,1],[3.0,8.0])|\n",
      "|       0.0|      0.0| (7,[0,1],[3.0,8.0])|\n",
      "|       0.0|      0.0| (7,[0,1],[3.0,8.0])|\n",
      "|       0.0|      0.0| (7,[0,1],[3.0,8.0])|\n",
      "|       0.0|      0.0| (7,[0,1],[3.0,8.0])|\n",
      "|       0.0|      0.0|(7,[0,1],[3.0,12.0])|\n",
      "|       0.0|      0.0| (7,[0,1],[4.0,8.0])|\n",
      "|       0.0|      0.0| (7,[0,1],[4.0,8.0])|\n",
      "|       0.0|      0.0| (7,[0,1],[4.0,8.0])|\n",
      "|       0.0|      0.0| (7,[0,1],[4.0,8.0])|\n",
      "|       0.0|      0.0| (7,[0,1],[4.0,8.0])|\n",
      "|       0.0|      0.0|(7,[0,1],[4.0,12.0])|\n",
      "|       0.0|      0.0| (7,[0,1],[5.0,2.0])|\n",
      "|       0.0|      0.0| (7,[0,1],[5.0,8.0])|\n",
      "|       0.0|      0.0| (7,[0,1],[5.0,8.0])|\n",
      "|       0.0|      0.0| (7,[0,1],[5.0,8.0])|\n",
      "|       0.0|      0.0| (7,[0,1],[5.0,8.0])|\n",
      "|       0.0|      0.0| (7,[0,1],[5.0,8.0])|\n",
      "|       0.0|      0.0| (7,[0,1],[5.0,8.0])|\n",
      "|       0.0|      0.0| (7,[0,1],[6.0,2.0])|\n",
      "|       0.0|      0.0| (7,[0,1],[6.0,2.0])|\n",
      "|       0.0|      0.0| (7,[0,1],[6.0,2.0])|\n",
      "|       0.0|      0.0| (7,[0,1],[6.0,8.0])|\n",
      "|       0.0|      0.0| (7,[0,1],[6.0,8.0])|\n",
      "|       0.0|      0.0| (7,[0,1],[6.0,8.0])|\n",
      "|       0.0|      0.0| (7,[0,1],[7.0,2.0])|\n",
      "|       0.0|      0.0| (7,[0,1],[7.0,2.0])|\n",
      "|       0.0|      0.0| (7,[0,1],[7.0,2.0])|\n",
      "|       0.0|      0.0| (7,[0,1],[7.0,2.0])|\n",
      "|       0.0|      0.0| (7,[0,1],[7.0,8.0])|\n",
      "|       0.0|      0.0| (7,[0,1],[8.0,2.0])|\n",
      "|       0.0|      0.0| (7,[0,1],[8.0,8.0])|\n",
      "|       0.0|      0.0| (7,[0,1],[8.0,8.0])|\n",
      "|       0.0|      0.0| (7,[0,1],[9.0,2.0])|\n",
      "|       0.0|      0.0| (7,[0,1],[9.0,2.0])|\n",
      "|       0.0|      0.0|(7,[0,1],[10.0,2.0])|\n",
      "|       0.0|      0.0|(7,[0,1],[10.0,2.0])|\n",
      "|       0.0|      0.0|(7,[0,1],[10.0,8.0])|\n",
      "|       0.0|      0.0|(7,[0,1],[10.0,8.0])|\n",
      "|       0.0|      0.0|(7,[0,1],[10.0,8.0])|\n",
      "|       0.0|      0.0|(7,[0,1],[10.0,8.0])|\n",
      "|       0.0|      0.0|(7,[0,1],[10.0,52...|\n",
      "|       0.0|      0.0|(7,[0,1],[11.0,2.0])|\n",
      "|       0.0|      0.0|(7,[0,1],[11.0,2.0])|\n",
      "|       0.0|      0.0|(7,[0,1],[11.0,2.0])|\n",
      "|       0.0|      0.0|(7,[0,1],[11.0,2.0])|\n",
      "|       0.0|      0.0|(7,[0,1],[11.0,2.0])|\n",
      "|       0.0|      0.0|(7,[0,1],[11.0,2.0])|\n",
      "|       0.0|      0.0|(7,[0,1],[11.0,2.0])|\n",
      "|       0.0|      0.0|(7,[0,1],[11.0,2.0])|\n",
      "|       0.0|      0.0|(7,[0,1],[11.0,8.0])|\n",
      "|       0.0|      0.0|(7,[0,1],[11.0,8.0])|\n",
      "|       0.0|      0.0|(7,[0,1],[11.0,12...|\n",
      "|       0.0|      0.0|(7,[0,1],[12.0,2.0])|\n",
      "|       0.0|      0.0|(7,[0,1],[13.0,52...|\n",
      "|       0.0|      0.0|(7,[0,1],[14.0,8.0])|\n",
      "|       0.0|      0.0|(7,[0,1],[15.0,8.0])|\n",
      "|       0.0|      0.0|(7,[0,1],[16.0,8.0])|\n",
      "|       0.0|      0.0|(7,[0,1],[16.0,12...|\n",
      "|       0.0|      0.0|(7,[0,1],[17.0,2.0])|\n",
      "|       0.0|      0.0|(7,[0,1],[19.0,8.0])|\n",
      "|       0.0|      0.0|(7,[0,1],[20.0,2.0])|\n",
      "|       0.0|      0.0|(7,[0,1],[20.0,2.0])|\n",
      "|       0.0|      0.0|(7,[0,1],[21.0,52...|\n",
      "|       0.0|      0.0|(7,[0,1],[22.0,2.0])|\n",
      "|       0.0|      0.0|(7,[0,1],[22.0,8.0])|\n",
      "|       0.0|      0.0|(7,[0,1],[23.0,8.0])|\n",
      "|       0.0|      0.0|(7,[0,1],[24.0,12...|\n",
      "|       0.0|      0.0|(7,[0,1],[25.0,2.0])|\n",
      "|       0.0|      0.0|(7,[0,1],[25.0,2.0])|\n",
      "|       0.0|      0.0|(7,[0,1],[25.0,13...|\n",
      "|       0.0|      0.0|(7,[0,1],[26.0,2.0])|\n",
      "|       0.0|      0.0|(7,[0,1],[26.0,8.0])|\n",
      "|       0.0|      0.0|(7,[0,1],[27.0,8.0])|\n",
      "|       0.0|      0.0|(7,[0,1],[28.0,52...|\n",
      "|       0.0|      0.0|(7,[0,1],[30.0,8.0])|\n",
      "+----------+---------+--------------------+\n",
      "only showing top 100 rows\n",
      "\n"
     ]
    }
   ],
   "source": [
    "predictions.select(\"prediction\", \"backorder\", \"features\").show(100)"
   ]
  },
  {
   "cell_type": "code",
   "execution_count": 27,
   "metadata": {
    "collapsed": true
   },
   "outputs": [],
   "source": [
    "from pyspark.ml.evaluation import MulticlassClassificationEvaluator"
   ]
  },
  {
   "cell_type": "code",
   "execution_count": 28,
   "metadata": {},
   "outputs": [
    {
     "name": "stdout",
     "output_type": "stream",
     "text": [
      "Test Error = 0.0116519\n"
     ]
    }
   ],
   "source": [
    "# Select (prediction, true label) and compute test error\n",
    "evaluator = MulticlassClassificationEvaluator(labelCol=\"backorder\", predictionCol=\"prediction\", metricName=\"accuracy\")\n",
    "accuracy = evaluator.evaluate(predictions)\n",
    "print(\"Test Error = %g\" % (1.0 - accuracy))"
   ]
  },
  {
   "cell_type": "code",
   "execution_count": 29,
   "metadata": {},
   "outputs": [
    {
     "data": {
      "text/plain": [
       "0.9883480704074044"
      ]
     },
     "execution_count": 29,
     "metadata": {},
     "output_type": "execute_result"
    }
   ],
   "source": [
    "accuracy"
   ]
  },
  {
   "cell_type": "code",
   "execution_count": null,
   "metadata": {
    "collapsed": true
   },
   "outputs": [],
   "source": []
  }
 ],
 "metadata": {
  "kernelspec": {
   "display_name": "Python 3",
   "language": "python",
   "name": "python3"
  },
  "language_info": {
   "codemirror_mode": {
    "name": "ipython",
    "version": 3
   },
   "file_extension": ".py",
   "mimetype": "text/x-python",
   "name": "python",
   "nbconvert_exporter": "python",
   "pygments_lexer": "ipython3",
   "version": "3.5.2"
  }
 },
 "nbformat": 4,
 "nbformat_minor": 2
}
